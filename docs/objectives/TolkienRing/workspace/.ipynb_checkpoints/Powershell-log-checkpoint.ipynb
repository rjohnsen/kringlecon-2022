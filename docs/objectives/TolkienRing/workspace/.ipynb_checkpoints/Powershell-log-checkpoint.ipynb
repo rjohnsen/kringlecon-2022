{
 "cells": [
  {
   "cell_type": "markdown",
   "id": "07e0a552-8564-48cf-988b-30e8f388eaaa",
   "metadata": {},
   "source": [
    "# Powershell Log"
   ]
  },
  {
   "cell_type": "markdown",
   "id": "6c1e79ed-234d-47fc-b015-d616fb01895b",
   "metadata": {},
   "source": [
    "## Loading Events"
   ]
  },
  {
   "cell_type": "code",
   "execution_count": 1,
   "id": "f75c234c-4040-4832-956c-f6e30611b2a0",
   "metadata": {},
   "outputs": [],
   "source": [
    "import pandas as pd\n",
    "import re\n",
    "\n",
    "import warnings\n",
    "warnings.simplefilter(action='ignore', category=FutureWarning)\n",
    "\n",
    "pd.set_option('display.max_colwidth', None)\n",
    "\n",
    "df = pd.read_csv(\n",
    "    \"powershell.csv\",\n",
    "    sep=\",\",\n",
    "    header=0,\n",
    "    names=[ \"Level\", \"DateTime\", \"Origin\", \"EventID\", \"Task\", \"Category\" ],\n",
    "    index_col=False\n",
    ")"
   ]
  },
  {
   "cell_type": "markdown",
   "id": "495d3e63-f6e4-4ab2-8057-82eab70dcbba",
   "metadata": {},
   "source": [
    "## Question 1"
   ]
  },
  {
   "cell_type": "markdown",
   "id": "5d7b9a12-13a3-47e3-a770-e30fb0a0c508",
   "metadata": {},
   "source": [
    "> What month/day/year did the attack take place? For example, 09/05/2021"
   ]
  },
  {
   "cell_type": "code",
   "execution_count": 28,
   "id": "8846cd9d-4790-419d-ad36-ea7691f09951",
   "metadata": {},
   "outputs": [
    {
     "data": {
      "text/plain": [
       "DateOnly\n",
       "2022-12-24    3540\n",
       "dtype: int64"
      ]
     },
     "execution_count": 28,
     "metadata": {},
     "output_type": "execute_result"
    }
   ],
   "source": [
    "df[\"DateOnly\"] = pd.to_datetime(df[\"DateTime\"]).dt.date\n",
    "df.groupby(\"DateOnly\").size().sort_values(ascending=False).iloc[:1]\n"
   ]
  },
  {
   "cell_type": "markdown",
   "id": "171851c9-b2a7-4027-8ae4-5e37a86d67e3",
   "metadata": {},
   "source": [
    "Date has to be formatted to match the requested date format"
   ]
  },
  {
   "cell_type": "markdown",
   "id": "b22d10aa-ec17-440b-9278-0067c2de638f",
   "metadata": {},
   "source": [
    "## Question 2"
   ]
  },
  {
   "cell_type": "markdown",
   "id": "fd2d3a8b-29e7-4a12-a269-ce25cd1310a7",
   "metadata": {},
   "source": [
    "> An attacker got a secret from a file. What was the original file's name?"
   ]
  },
  {
   "cell_type": "code",
   "execution_count": 30,
   "id": "6a08139f-1a17-4d9b-8f68-10adf0544621",
   "metadata": {
    "tags": []
   },
   "outputs": [
    {
     "data": {
      "text/html": [
       "<div>\n",
       "<style scoped>\n",
       "    .dataframe tbody tr th:only-of-type {\n",
       "        vertical-align: middle;\n",
       "    }\n",
       "\n",
       "    .dataframe tbody tr th {\n",
       "        vertical-align: top;\n",
       "    }\n",
       "\n",
       "    .dataframe thead th {\n",
       "        text-align: right;\n",
       "    }\n",
       "</style>\n",
       "<table border=\"1\" class=\"dataframe\">\n",
       "  <thead>\n",
       "    <tr style=\"text-align: right;\">\n",
       "      <th></th>\n",
       "      <th>DateTime</th>\n",
       "      <th>Category</th>\n",
       "    </tr>\n",
       "  </thead>\n",
       "  <tbody>\n",
       "    <tr>\n",
       "      <th>2592</th>\n",
       "      <td>24.12.2022 12:05:07</td>\n",
       "      <td>Creating Scriptblock text (1 of 1):\\n$foo | Add-Content -Path 'Recipe'\\n\\nScriptBlock ID: 00daf2d0-fd6e-4475-8f90-b99224cbe240\\nPath:</td>\n",
       "    </tr>\n",
       "    <tr>\n",
       "      <th>2638</th>\n",
       "      <td>24.12.2022 12:04:44</td>\n",
       "      <td>Creating Scriptblock text (1 of 1):\\n$foo | Add-Content -Path 'Recipe.txt'\\n\\nScriptBlock ID: c54e091b-147d-4b65-a84d-87ec7453fbbb\\nPath:</td>\n",
       "    </tr>\n",
       "    <tr>\n",
       "      <th>2721</th>\n",
       "      <td>24.12.2022 12:04:18</td>\n",
       "      <td>Creating Scriptblock text (1 of 1):\\n$foo | Add-Content -Path 'Recipe.txt'\\n\\nScriptBlock ID: 49f0e51a-bcd9-4a8f-a124-3512606afde7\\nPath:</td>\n",
       "    </tr>\n",
       "    <tr>\n",
       "      <th>2804</th>\n",
       "      <td>24.12.2022 12:03:55</td>\n",
       "      <td>Creating Scriptblock text (1 of 1):\\n$foo | Add-Content -Path 'Recipe.txt'\\n\\nScriptBlock ID: 8e5b9d7d-e1ff-40bc-8727-49ae9530af02\\nPath:</td>\n",
       "    </tr>\n",
       "    <tr>\n",
       "      <th>2862</th>\n",
       "      <td>24.12.2022 12:03:22</td>\n",
       "      <td>Creating Scriptblock text (1 of 1):\\n$foo | Add-Content -Path 'recipe_updated.txt'\\n\\nScriptBlock ID: e6033506-603f-4380-9be0-79880b40e95c\\nPath:</td>\n",
       "    </tr>\n",
       "    <tr>\n",
       "      <th>2948</th>\n",
       "      <td>24.12.2022 12:02:45</td>\n",
       "      <td>Creating Scriptblock text (1 of 1):\\n$foo = Get-Content .\\Recipe| % {$_-replace 'honey','fish oil'} $foo | Add-Content -Path 'recipe_updated.txt'\\n\\nScriptBlock ID: 6ea311a5-b9d2-40a6-a794-60e3f9539005\\nPath:</td>\n",
       "    </tr>\n",
       "    <tr>\n",
       "      <th>3009</th>\n",
       "      <td>24.12.2022 12:01:20</td>\n",
       "      <td>Creating Scriptblock text (1 of 1):\\n$foo = Get-Content .\\Recipe| % {$_ -replace 'honey', 'fish oil'} $foo | Add-Content -Path 'recipe_updated.txt'\\n\\n\\nScriptBlock ID: 1189c065-869d-4386-8386-456c7c89130f\\nPath:</td>\n",
       "    </tr>\n",
       "  </tbody>\n",
       "</table>\n",
       "</div>"
      ],
      "text/plain": [
       "                 DateTime  \\\n",
       "2592  24.12.2022 12:05:07   \n",
       "2638  24.12.2022 12:04:44   \n",
       "2721  24.12.2022 12:04:18   \n",
       "2804  24.12.2022 12:03:55   \n",
       "2862  24.12.2022 12:03:22   \n",
       "2948  24.12.2022 12:02:45   \n",
       "3009  24.12.2022 12:01:20   \n",
       "\n",
       "                                                                                                                                                                                                                   Category  \n",
       "2592                                                                                 Creating Scriptblock text (1 of 1):\\n$foo | Add-Content -Path 'Recipe'\\n\\nScriptBlock ID: 00daf2d0-fd6e-4475-8f90-b99224cbe240\\nPath:   \n",
       "2638                                                                             Creating Scriptblock text (1 of 1):\\n$foo | Add-Content -Path 'Recipe.txt'\\n\\nScriptBlock ID: c54e091b-147d-4b65-a84d-87ec7453fbbb\\nPath:   \n",
       "2721                                                                             Creating Scriptblock text (1 of 1):\\n$foo | Add-Content -Path 'Recipe.txt'\\n\\nScriptBlock ID: 49f0e51a-bcd9-4a8f-a124-3512606afde7\\nPath:   \n",
       "2804                                                                             Creating Scriptblock text (1 of 1):\\n$foo | Add-Content -Path 'Recipe.txt'\\n\\nScriptBlock ID: 8e5b9d7d-e1ff-40bc-8727-49ae9530af02\\nPath:   \n",
       "2862                                                                     Creating Scriptblock text (1 of 1):\\n$foo | Add-Content -Path 'recipe_updated.txt'\\n\\nScriptBlock ID: e6033506-603f-4380-9be0-79880b40e95c\\nPath:   \n",
       "2948      Creating Scriptblock text (1 of 1):\\n$foo = Get-Content .\\Recipe| % {$_-replace 'honey','fish oil'} $foo | Add-Content -Path 'recipe_updated.txt'\\n\\nScriptBlock ID: 6ea311a5-b9d2-40a6-a794-60e3f9539005\\nPath:   \n",
       "3009  Creating Scriptblock text (1 of 1):\\n$foo = Get-Content .\\Recipe| % {$_ -replace 'honey', 'fish oil'} $foo | Add-Content -Path 'recipe_updated.txt'\\n\\n\\nScriptBlock ID: 1189c065-869d-4386-8386-456c7c89130f\\nPath:   "
      ]
     },
     "execution_count": 30,
     "metadata": {},
     "output_type": "execute_result"
    }
   ],
   "source": [
    "q2df = df[ (df[\"DateOnly\"] == pd.Timestamp(\"2022-12-24\")) & (df[\"Category\"].str.contains(\"Add-Content -Path\"))]\n",
    "q2df[ [\"DateTime\", \"Category\"] ]"
   ]
  },
  {
   "cell_type": "markdown",
   "id": "261bfc70-951a-4394-9947-8265020bb28a",
   "metadata": {},
   "source": [
    "Answer is **Recipe.txt**"
   ]
  },
  {
   "cell_type": "markdown",
   "id": "219617c4-77a5-42e6-93e0-b2c4f5c7311c",
   "metadata": {},
   "source": [
    "## Question 3"
   ]
  },
  {
   "cell_type": "markdown",
   "id": "b18fbbe5-930c-4ed8-8fd1-078e95fd05d9",
   "metadata": {},
   "source": [
    "> The contents of the previous file were retrieved, changed, and stored to a variable by the attacker. This was done multiple times. Submit the last full Powershell line that performed on these actions"
   ]
  },
  {
   "cell_type": "code",
   "execution_count": 5,
   "id": "7e8707ea-7944-4272-abd2-0b724801ed9e",
   "metadata": {},
   "outputs": [
    {
     "data": {
      "text/plain": [
       "\"$foo = Get-Content .\\\\Recipe| % {$_ -replace 'honey', 'fish oil'}\""
      ]
     },
     "execution_count": 5,
     "metadata": {},
     "output_type": "execute_result"
    }
   ],
   "source": [
    "q3df = df[ (df[\"DateOnly\"] == pd.Timestamp(\"2022-12-24\")) & (df[\"Category\"].str.contains(\"\\$foo\\s=\\sGet-Content\", regex=True))].sort_values(by=\"DateTime\", ascending=False).iloc[:1]\n",
    "q3df[\"Category\"]\n",
    "# re.search(r\"\\:\\n(.+)\\n\\n\", q3df[\"Category\"].iloc[0]).group(1)"
   ]
  },
  {
   "cell_type": "markdown",
   "id": "7a15df33-6f18-4186-b607-5e66ad3de7c5",
   "metadata": {},
   "source": [
    "## Question 4"
   ]
  },
  {
   "cell_type": "markdown",
   "id": "e4ff3dbe-5bd4-4584-8d0b-90d0e819508c",
   "metadata": {},
   "source": [
    "After storing the altered file contents into the variable, the attacker used the variable \n",
    "to run a separate command that wrote the modified data to a file. This was done multiple \n",
    "times. Submit the last full PowerShell line that performed only this action."
   ]
  },
  {
   "cell_type": "code",
   "execution_count": 8,
   "id": "b1f97475-f4ec-4924-b74f-212d484c284e",
   "metadata": {},
   "outputs": [
    {
     "data": {
      "text/plain": [
       "\"$foo | Add-Content -Path 'Recipe'\""
      ]
     },
     "execution_count": 8,
     "metadata": {},
     "output_type": "execute_result"
    }
   ],
   "source": [
    "q4df = df[ (df[\"DateOnly\"] == pd.Timestamp(\"2022-12-24\")) & (df[\"Category\"].str.contains(\"\\$foo \\|\", regex=True))].sort_values(by=\"DateTime\", ascending=False).iloc[:1]\n",
    "re.search(r\"\\n(.+)\\n\\n\", q4df[\"Category\"].iloc[0]).group(1)"
   ]
  },
  {
   "cell_type": "markdown",
   "id": "5b6f6c67-428a-4ac3-9416-c253ec048353",
   "metadata": {},
   "source": [
    "## Question 5"
   ]
  },
  {
   "cell_type": "markdown",
   "id": "59f1a461-cea6-4f6a-8606-436693e11c67",
   "metadata": {},
   "source": [
    "The attacker ran the previous command against a file multiple times. What is the name of this file?"
   ]
  },
  {
   "cell_type": "code",
   "execution_count": 9,
   "id": "394d3795-b82b-4007-8447-36fd5ae02e43",
   "metadata": {},
   "outputs": [
    {
     "data": {
      "text/html": [
       "<div>\n",
       "<style scoped>\n",
       "    .dataframe tbody tr th:only-of-type {\n",
       "        vertical-align: middle;\n",
       "    }\n",
       "\n",
       "    .dataframe tbody tr th {\n",
       "        vertical-align: top;\n",
       "    }\n",
       "\n",
       "    .dataframe thead th {\n",
       "        text-align: right;\n",
       "    }\n",
       "</style>\n",
       "<table border=\"1\" class=\"dataframe\">\n",
       "  <thead>\n",
       "    <tr style=\"text-align: right;\">\n",
       "      <th></th>\n",
       "      <th>DateTime</th>\n",
       "      <th>Category</th>\n",
       "    </tr>\n",
       "  </thead>\n",
       "  <tbody>\n",
       "    <tr>\n",
       "      <th>2592</th>\n",
       "      <td>24.12.2022 12:05:07</td>\n",
       "      <td>Creating Scriptblock text (1 of 1):\\n$foo | Add-Content -Path 'Recipe'\\n\\nScriptBlock ID: 00daf2d0-fd6e-4475-8f90-b99224cbe240\\nPath:</td>\n",
       "    </tr>\n",
       "    <tr>\n",
       "      <th>2638</th>\n",
       "      <td>24.12.2022 12:04:44</td>\n",
       "      <td>Creating Scriptblock text (1 of 1):\\n$foo | Add-Content -Path 'Recipe.txt'\\n\\nScriptBlock ID: c54e091b-147d-4b65-a84d-87ec7453fbbb\\nPath:</td>\n",
       "    </tr>\n",
       "    <tr>\n",
       "      <th>2689</th>\n",
       "      <td>24.12.2022 12:04:37</td>\n",
       "      <td>Creating Scriptblock text (1 of 1):\\n$foo = Get-Content .\\Recipe| % {$_ -replace 'honey', 'fish oil'}\\n\\nScriptBlock ID: 11c6e378-2879-460e-bcd9-06cdfa28c70a\\nPath:</td>\n",
       "    </tr>\n",
       "    <tr>\n",
       "      <th>2721</th>\n",
       "      <td>24.12.2022 12:04:18</td>\n",
       "      <td>Creating Scriptblock text (1 of 1):\\n$foo | Add-Content -Path 'Recipe.txt'\\n\\nScriptBlock ID: 49f0e51a-bcd9-4a8f-a124-3512606afde7\\nPath:</td>\n",
       "    </tr>\n",
       "    <tr>\n",
       "      <th>2772</th>\n",
       "      <td>24.12.2022 12:04:10</td>\n",
       "      <td>Creating Scriptblock text (1 of 1):\\n$foo = Get-Content .\\Recipe| % {$_-replace 'honey','fish oil'}\\n\\nScriptBlock ID: e7266037-4244-4d41-96cc-9d2488d84bde\\nPath:</td>\n",
       "    </tr>\n",
       "    <tr>\n",
       "      <th>2804</th>\n",
       "      <td>24.12.2022 12:03:55</td>\n",
       "      <td>Creating Scriptblock text (1 of 1):\\n$foo | Add-Content -Path 'Recipe.txt'\\n\\nScriptBlock ID: 8e5b9d7d-e1ff-40bc-8727-49ae9530af02\\nPath:</td>\n",
       "    </tr>\n",
       "    <tr>\n",
       "      <th>2862</th>\n",
       "      <td>24.12.2022 12:03:22</td>\n",
       "      <td>Creating Scriptblock text (1 of 1):\\n$foo | Add-Content -Path 'recipe_updated.txt'\\n\\nScriptBlock ID: e6033506-603f-4380-9be0-79880b40e95c\\nPath:</td>\n",
       "    </tr>\n",
       "    <tr>\n",
       "      <th>2913</th>\n",
       "      <td>24.12.2022 12:03:10</td>\n",
       "      <td>Creating Scriptblock text (1 of 1):\\n$foo = Get-Content .\\Recipe| % {$_-replace 'honey','fish oil'}\\n\\nScriptBlock ID: b039d71f-52cc-41b7-acf6-a8ca43ad5035\\nPath:</td>\n",
       "    </tr>\n",
       "    <tr>\n",
       "      <th>2948</th>\n",
       "      <td>24.12.2022 12:02:45</td>\n",
       "      <td>Creating Scriptblock text (1 of 1):\\n$foo = Get-Content .\\Recipe| % {$_-replace 'honey','fish oil'} $foo | Add-Content -Path 'recipe_updated.txt'\\n\\nScriptBlock ID: 6ea311a5-b9d2-40a6-a794-60e3f9539005\\nPath:</td>\n",
       "    </tr>\n",
       "    <tr>\n",
       "      <th>3009</th>\n",
       "      <td>24.12.2022 12:01:20</td>\n",
       "      <td>Creating Scriptblock text (1 of 1):\\n$foo = Get-Content .\\Recipe| % {$_ -replace 'honey', 'fish oil'} $foo | Add-Content -Path 'recipe_updated.txt'\\n\\n\\nScriptBlock ID: 1189c065-869d-4386-8386-456c7c89130f\\nPath:</td>\n",
       "    </tr>\n",
       "  </tbody>\n",
       "</table>\n",
       "</div>"
      ],
      "text/plain": [
       "                 DateTime  \\\n",
       "2592  24.12.2022 12:05:07   \n",
       "2638  24.12.2022 12:04:44   \n",
       "2689  24.12.2022 12:04:37   \n",
       "2721  24.12.2022 12:04:18   \n",
       "2772  24.12.2022 12:04:10   \n",
       "2804  24.12.2022 12:03:55   \n",
       "2862  24.12.2022 12:03:22   \n",
       "2913  24.12.2022 12:03:10   \n",
       "2948  24.12.2022 12:02:45   \n",
       "3009  24.12.2022 12:01:20   \n",
       "\n",
       "                                                                                                                                                                                                                   Category  \n",
       "2592                                                                                 Creating Scriptblock text (1 of 1):\\n$foo | Add-Content -Path 'Recipe'\\n\\nScriptBlock ID: 00daf2d0-fd6e-4475-8f90-b99224cbe240\\nPath:   \n",
       "2638                                                                             Creating Scriptblock text (1 of 1):\\n$foo | Add-Content -Path 'Recipe.txt'\\n\\nScriptBlock ID: c54e091b-147d-4b65-a84d-87ec7453fbbb\\nPath:   \n",
       "2689                                                  Creating Scriptblock text (1 of 1):\\n$foo = Get-Content .\\Recipe| % {$_ -replace 'honey', 'fish oil'}\\n\\nScriptBlock ID: 11c6e378-2879-460e-bcd9-06cdfa28c70a\\nPath:   \n",
       "2721                                                                             Creating Scriptblock text (1 of 1):\\n$foo | Add-Content -Path 'Recipe.txt'\\n\\nScriptBlock ID: 49f0e51a-bcd9-4a8f-a124-3512606afde7\\nPath:   \n",
       "2772                                                    Creating Scriptblock text (1 of 1):\\n$foo = Get-Content .\\Recipe| % {$_-replace 'honey','fish oil'}\\n\\nScriptBlock ID: e7266037-4244-4d41-96cc-9d2488d84bde\\nPath:   \n",
       "2804                                                                             Creating Scriptblock text (1 of 1):\\n$foo | Add-Content -Path 'Recipe.txt'\\n\\nScriptBlock ID: 8e5b9d7d-e1ff-40bc-8727-49ae9530af02\\nPath:   \n",
       "2862                                                                     Creating Scriptblock text (1 of 1):\\n$foo | Add-Content -Path 'recipe_updated.txt'\\n\\nScriptBlock ID: e6033506-603f-4380-9be0-79880b40e95c\\nPath:   \n",
       "2913                                                    Creating Scriptblock text (1 of 1):\\n$foo = Get-Content .\\Recipe| % {$_-replace 'honey','fish oil'}\\n\\nScriptBlock ID: b039d71f-52cc-41b7-acf6-a8ca43ad5035\\nPath:   \n",
       "2948      Creating Scriptblock text (1 of 1):\\n$foo = Get-Content .\\Recipe| % {$_-replace 'honey','fish oil'} $foo | Add-Content -Path 'recipe_updated.txt'\\n\\nScriptBlock ID: 6ea311a5-b9d2-40a6-a794-60e3f9539005\\nPath:   \n",
       "3009  Creating Scriptblock text (1 of 1):\\n$foo = Get-Content .\\Recipe| % {$_ -replace 'honey', 'fish oil'} $foo | Add-Content -Path 'recipe_updated.txt'\\n\\n\\nScriptBlock ID: 1189c065-869d-4386-8386-456c7c89130f\\nPath:   "
      ]
     },
     "execution_count": 9,
     "metadata": {},
     "output_type": "execute_result"
    }
   ],
   "source": [
    "q5df = df[ (df[\"DateOnly\"] == pd.Timestamp(\"2022-12-24\")) & (df[\"Category\"].str.contains(\"foo\", regex=True))].sort_values(by=\"DateTime\", ascending=False)\n",
    "q5df[ [\"DateTime\", \"Category\"] ]"
   ]
  },
  {
   "cell_type": "code",
   "execution_count": null,
   "id": "9e007dff-9b1f-4ac1-9b3f-f13e8e396e1a",
   "metadata": {},
   "outputs": [],
   "source": []
  }
 ],
 "metadata": {
  "kernelspec": {
   "display_name": "Python 3 (ipykernel)",
   "language": "python",
   "name": "python3"
  },
  "language_info": {
   "codemirror_mode": {
    "name": "ipython",
    "version": 3
   },
   "file_extension": ".py",
   "mimetype": "text/x-python",
   "name": "python",
   "nbconvert_exporter": "python",
   "pygments_lexer": "ipython3",
   "version": "3.11.0"
  }
 },
 "nbformat": 4,
 "nbformat_minor": 5
}
