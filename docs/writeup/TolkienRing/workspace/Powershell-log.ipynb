{
 "cells": [
  {
   "cell_type": "markdown",
   "id": "07e0a552-8564-48cf-988b-30e8f388eaaa",
   "metadata": {},
   "source": [
    "# Powershell Log"
   ]
  },
  {
   "cell_type": "markdown",
   "id": "6c1e79ed-234d-47fc-b015-d616fb01895b",
   "metadata": {},
   "source": [
    "## Loading Events"
   ]
  },
  {
   "cell_type": "code",
   "execution_count": 1,
   "id": "f75c234c-4040-4832-956c-f6e30611b2a0",
   "metadata": {},
   "outputs": [],
   "source": [
    "import pandas as pd\n",
    "import re\n",
    "\n",
    "import warnings\n",
    "warnings.simplefilter(action='ignore', category=FutureWarning)\n",
    "\n",
    "pd.set_option('display.max_colwidth', None)\n",
    "\n",
    "df = pd.read_csv(\n",
    "    \"powershell.csv\",\n",
    "    sep=\",\",\n",
    "    header=0,\n",
    "    names=[ \"Level\", \"DateTime\", \"Origin\", \"EventID\", \"Task\", \"Category\" ],\n",
    "    index_col=False\n",
    ")"
   ]
  },
  {
   "cell_type": "markdown",
   "id": "495d3e63-f6e4-4ab2-8057-82eab70dcbba",
   "metadata": {},
   "source": [
    "## Question 1"
   ]
  },
  {
   "cell_type": "markdown",
   "id": "5d7b9a12-13a3-47e3-a770-e30fb0a0c508",
   "metadata": {},
   "source": [
    "> What month/day/year did the attack take place? For example, 09/05/2021"
   ]
  },
  {
   "cell_type": "code",
   "execution_count": 2,
   "id": "8846cd9d-4790-419d-ad36-ea7691f09951",
   "metadata": {},
   "outputs": [
    {
     "data": {
      "text/plain": [
       "DateOnly\n",
       "2022-12-24    3540\n",
       "dtype: int64"
      ]
     },
     "execution_count": 2,
     "metadata": {},
     "output_type": "execute_result"
    }
   ],
   "source": [
    "df[\"DateOnly\"] = pd.to_datetime(df[\"DateTime\"]).dt.date\n",
    "df.groupby(\"DateOnly\").size().sort_values(ascending=False).iloc[:1]\n"
   ]
  },
  {
   "cell_type": "markdown",
   "id": "171851c9-b2a7-4027-8ae4-5e37a86d67e3",
   "metadata": {},
   "source": [
    "Date has to be formatted to match the requested date format"
   ]
  },
  {
   "cell_type": "markdown",
   "id": "b22d10aa-ec17-440b-9278-0067c2de638f",
   "metadata": {},
   "source": [
    "## Question 2"
   ]
  },
  {
   "cell_type": "markdown",
   "id": "fd2d3a8b-29e7-4a12-a269-ce25cd1310a7",
   "metadata": {},
   "source": [
    "> An attacker got a secret from a file. What was the original file's name?"
   ]
  },
  {
   "cell_type": "code",
   "execution_count": 3,
   "id": "6a08139f-1a17-4d9b-8f68-10adf0544621",
   "metadata": {
    "tags": []
   },
   "outputs": [
    {
     "data": {
      "text/html": [
       "<div>\n",
       "<style scoped>\n",
       "    .dataframe tbody tr th:only-of-type {\n",
       "        vertical-align: middle;\n",
       "    }\n",
       "\n",
       "    .dataframe tbody tr th {\n",
       "        vertical-align: top;\n",
       "    }\n",
       "\n",
       "    .dataframe thead th {\n",
       "        text-align: right;\n",
       "    }\n",
       "</style>\n",
       "<table border=\"1\" class=\"dataframe\">\n",
       "  <thead>\n",
       "    <tr style=\"text-align: right;\">\n",
       "      <th></th>\n",
       "      <th>DateTime</th>\n",
       "      <th>Category</th>\n",
       "    </tr>\n",
       "  </thead>\n",
       "  <tbody>\n",
       "    <tr>\n",
       "      <th>2592</th>\n",
       "      <td>24.12.2022 12:05:07</td>\n",
       "      <td>Creating Scriptblock text (1 of 1):\\n$foo | Add-Content -Path 'Recipe'\\n\\nScriptBlock ID: 00daf2d0-fd6e-4475-8f90-b99224cbe240\\nPath:</td>\n",
       "    </tr>\n",
       "    <tr>\n",
       "      <th>2638</th>\n",
       "      <td>24.12.2022 12:04:44</td>\n",
       "      <td>Creating Scriptblock text (1 of 1):\\n$foo | Add-Content -Path 'Recipe.txt'\\n\\nScriptBlock ID: c54e091b-147d-4b65-a84d-87ec7453fbbb\\nPath:</td>\n",
       "    </tr>\n",
       "    <tr>\n",
       "      <th>2721</th>\n",
       "      <td>24.12.2022 12:04:18</td>\n",
       "      <td>Creating Scriptblock text (1 of 1):\\n$foo | Add-Content -Path 'Recipe.txt'\\n\\nScriptBlock ID: 49f0e51a-bcd9-4a8f-a124-3512606afde7\\nPath:</td>\n",
       "    </tr>\n",
       "    <tr>\n",
       "      <th>2804</th>\n",
       "      <td>24.12.2022 12:03:55</td>\n",
       "      <td>Creating Scriptblock text (1 of 1):\\n$foo | Add-Content -Path 'Recipe.txt'\\n\\nScriptBlock ID: 8e5b9d7d-e1ff-40bc-8727-49ae9530af02\\nPath:</td>\n",
       "    </tr>\n",
       "    <tr>\n",
       "      <th>2862</th>\n",
       "      <td>24.12.2022 12:03:22</td>\n",
       "      <td>Creating Scriptblock text (1 of 1):\\n$foo | Add-Content -Path 'recipe_updated.txt'\\n\\nScriptBlock ID: e6033506-603f-4380-9be0-79880b40e95c\\nPath:</td>\n",
       "    </tr>\n",
       "    <tr>\n",
       "      <th>2948</th>\n",
       "      <td>24.12.2022 12:02:45</td>\n",
       "      <td>Creating Scriptblock text (1 of 1):\\n$foo = Get-Content .\\Recipe| % {$_-replace 'honey','fish oil'} $foo | Add-Content -Path 'recipe_updated.txt'\\n\\nScriptBlock ID: 6ea311a5-b9d2-40a6-a794-60e3f9539005\\nPath:</td>\n",
       "    </tr>\n",
       "    <tr>\n",
       "      <th>3009</th>\n",
       "      <td>24.12.2022 12:01:20</td>\n",
       "      <td>Creating Scriptblock text (1 of 1):\\n$foo = Get-Content .\\Recipe| % {$_ -replace 'honey', 'fish oil'} $foo | Add-Content -Path 'recipe_updated.txt'\\n\\n\\nScriptBlock ID: 1189c065-869d-4386-8386-456c7c89130f\\nPath:</td>\n",
       "    </tr>\n",
       "  </tbody>\n",
       "</table>\n",
       "</div>"
      ],
      "text/plain": [
       "                 DateTime  \\\n",
       "2592  24.12.2022 12:05:07   \n",
       "2638  24.12.2022 12:04:44   \n",
       "2721  24.12.2022 12:04:18   \n",
       "2804  24.12.2022 12:03:55   \n",
       "2862  24.12.2022 12:03:22   \n",
       "2948  24.12.2022 12:02:45   \n",
       "3009  24.12.2022 12:01:20   \n",
       "\n",
       "                                                                                                                                                                                                                   Category  \n",
       "2592                                                                                 Creating Scriptblock text (1 of 1):\\n$foo | Add-Content -Path 'Recipe'\\n\\nScriptBlock ID: 00daf2d0-fd6e-4475-8f90-b99224cbe240\\nPath:   \n",
       "2638                                                                             Creating Scriptblock text (1 of 1):\\n$foo | Add-Content -Path 'Recipe.txt'\\n\\nScriptBlock ID: c54e091b-147d-4b65-a84d-87ec7453fbbb\\nPath:   \n",
       "2721                                                                             Creating Scriptblock text (1 of 1):\\n$foo | Add-Content -Path 'Recipe.txt'\\n\\nScriptBlock ID: 49f0e51a-bcd9-4a8f-a124-3512606afde7\\nPath:   \n",
       "2804                                                                             Creating Scriptblock text (1 of 1):\\n$foo | Add-Content -Path 'Recipe.txt'\\n\\nScriptBlock ID: 8e5b9d7d-e1ff-40bc-8727-49ae9530af02\\nPath:   \n",
       "2862                                                                     Creating Scriptblock text (1 of 1):\\n$foo | Add-Content -Path 'recipe_updated.txt'\\n\\nScriptBlock ID: e6033506-603f-4380-9be0-79880b40e95c\\nPath:   \n",
       "2948      Creating Scriptblock text (1 of 1):\\n$foo = Get-Content .\\Recipe| % {$_-replace 'honey','fish oil'} $foo | Add-Content -Path 'recipe_updated.txt'\\n\\nScriptBlock ID: 6ea311a5-b9d2-40a6-a794-60e3f9539005\\nPath:   \n",
       "3009  Creating Scriptblock text (1 of 1):\\n$foo = Get-Content .\\Recipe| % {$_ -replace 'honey', 'fish oil'} $foo | Add-Content -Path 'recipe_updated.txt'\\n\\n\\nScriptBlock ID: 1189c065-869d-4386-8386-456c7c89130f\\nPath:   "
      ]
     },
     "execution_count": 3,
     "metadata": {},
     "output_type": "execute_result"
    }
   ],
   "source": [
    "q2df = df[ (df[\"DateOnly\"] == pd.Timestamp(\"2022-12-24\")) & (df[\"Category\"].str.contains(\"Add-Content -Path\"))]\n",
    "q2df[ [\"DateTime\", \"Category\"] ]"
   ]
  },
  {
   "cell_type": "markdown",
   "id": "261bfc70-951a-4394-9947-8265020bb28a",
   "metadata": {},
   "source": [
    "Answer is **Recipe.txt**"
   ]
  },
  {
   "cell_type": "markdown",
   "id": "219617c4-77a5-42e6-93e0-b2c4f5c7311c",
   "metadata": {},
   "source": [
    "## Question 3"
   ]
  },
  {
   "cell_type": "markdown",
   "id": "b18fbbe5-930c-4ed8-8fd1-078e95fd05d9",
   "metadata": {},
   "source": [
    "> The contents of the previous file were retrieved, changed, and stored to a variable by the attacker. This was done multiple times. Submit the last full Powershell line that performed on these actions"
   ]
  },
  {
   "cell_type": "code",
   "execution_count": 4,
   "id": "7e8707ea-7944-4272-abd2-0b724801ed9e",
   "metadata": {},
   "outputs": [
    {
     "data": {
      "text/plain": [
       "2689    Creating Scriptblock text (1 of 1):\\n$foo = Get-Content .\\Recipe| % {$_ -replace 'honey', 'fish oil'}\\n\\nScriptBlock ID: 11c6e378-2879-460e-bcd9-06cdfa28c70a\\nPath: \n",
       "Name: Category, dtype: object"
      ]
     },
     "execution_count": 4,
     "metadata": {},
     "output_type": "execute_result"
    }
   ],
   "source": [
    "q3df = df[ (df[\"DateOnly\"] == pd.Timestamp(\"2022-12-24\")) & (df[\"Category\"].str.contains(\"\\$foo\\s=\\sGet-Content\", regex=True))].sort_values(by=\"DateTime\", ascending=False).iloc[:1]\n",
    "q3df[\"Category\"]"
   ]
  },
  {
   "cell_type": "markdown",
   "id": "7a15df33-6f18-4186-b607-5e66ad3de7c5",
   "metadata": {},
   "source": [
    "## Question 4"
   ]
  },
  {
   "cell_type": "markdown",
   "id": "e4ff3dbe-5bd4-4584-8d0b-90d0e819508c",
   "metadata": {},
   "source": [
    "> After storing the altered file contents into the variable, the attacker used the variable \n",
    "to run a separate command that wrote the modified data to a file. This was done multiple \n",
    "times. Submit the last full PowerShell line that performed only this action."
   ]
  },
  {
   "cell_type": "code",
   "execution_count": 5,
   "id": "b1f97475-f4ec-4924-b74f-212d484c284e",
   "metadata": {},
   "outputs": [
    {
     "data": {
      "text/plain": [
       "\"$foo | Add-Content -Path 'Recipe'\""
      ]
     },
     "execution_count": 5,
     "metadata": {},
     "output_type": "execute_result"
    }
   ],
   "source": [
    "q4df = df[ (df[\"DateOnly\"] == pd.Timestamp(\"2022-12-24\")) & (df[\"Category\"].str.contains(\"\\$foo \\|\", regex=True))].sort_values(by=\"DateTime\", ascending=False).iloc[:1]\n",
    "re.search(r\"\\n(.+)\\n\\n\", q4df[\"Category\"].iloc[0]).group(1)"
   ]
  },
  {
   "cell_type": "markdown",
   "id": "5b6f6c67-428a-4ac3-9416-c253ec048353",
   "metadata": {},
   "source": [
    "## Question 5"
   ]
  },
  {
   "cell_type": "markdown",
   "id": "59f1a461-cea6-4f6a-8606-436693e11c67",
   "metadata": {},
   "source": [
    "The attacker ran the previous command against a file multiple times. What is the name of this file?"
   ]
  },
  {
   "cell_type": "code",
   "execution_count": 6,
   "id": "394d3795-b82b-4007-8447-36fd5ae02e43",
   "metadata": {},
   "outputs": [
    {
     "data": {
      "text/html": [
       "<div>\n",
       "<style scoped>\n",
       "    .dataframe tbody tr th:only-of-type {\n",
       "        vertical-align: middle;\n",
       "    }\n",
       "\n",
       "    .dataframe tbody tr th {\n",
       "        vertical-align: top;\n",
       "    }\n",
       "\n",
       "    .dataframe thead th {\n",
       "        text-align: right;\n",
       "    }\n",
       "</style>\n",
       "<table border=\"1\" class=\"dataframe\">\n",
       "  <thead>\n",
       "    <tr style=\"text-align: right;\">\n",
       "      <th></th>\n",
       "      <th>DateTime</th>\n",
       "      <th>Category</th>\n",
       "    </tr>\n",
       "  </thead>\n",
       "  <tbody>\n",
       "    <tr>\n",
       "      <th>2592</th>\n",
       "      <td>24.12.2022 12:05:07</td>\n",
       "      <td>Creating Scriptblock text (1 of 1):\\n$foo | Add-Content -Path 'Recipe'\\n\\nScriptBlock ID: 00daf2d0-fd6e-4475-8f90-b99224cbe240\\nPath:</td>\n",
       "    </tr>\n",
       "    <tr>\n",
       "      <th>2638</th>\n",
       "      <td>24.12.2022 12:04:44</td>\n",
       "      <td>Creating Scriptblock text (1 of 1):\\n$foo | Add-Content -Path 'Recipe.txt'\\n\\nScriptBlock ID: c54e091b-147d-4b65-a84d-87ec7453fbbb\\nPath:</td>\n",
       "    </tr>\n",
       "    <tr>\n",
       "      <th>2689</th>\n",
       "      <td>24.12.2022 12:04:37</td>\n",
       "      <td>Creating Scriptblock text (1 of 1):\\n$foo = Get-Content .\\Recipe| % {$_ -replace 'honey', 'fish oil'}\\n\\nScriptBlock ID: 11c6e378-2879-460e-bcd9-06cdfa28c70a\\nPath:</td>\n",
       "    </tr>\n",
       "    <tr>\n",
       "      <th>2721</th>\n",
       "      <td>24.12.2022 12:04:18</td>\n",
       "      <td>Creating Scriptblock text (1 of 1):\\n$foo | Add-Content -Path 'Recipe.txt'\\n\\nScriptBlock ID: 49f0e51a-bcd9-4a8f-a124-3512606afde7\\nPath:</td>\n",
       "    </tr>\n",
       "    <tr>\n",
       "      <th>2772</th>\n",
       "      <td>24.12.2022 12:04:10</td>\n",
       "      <td>Creating Scriptblock text (1 of 1):\\n$foo = Get-Content .\\Recipe| % {$_-replace 'honey','fish oil'}\\n\\nScriptBlock ID: e7266037-4244-4d41-96cc-9d2488d84bde\\nPath:</td>\n",
       "    </tr>\n",
       "    <tr>\n",
       "      <th>2804</th>\n",
       "      <td>24.12.2022 12:03:55</td>\n",
       "      <td>Creating Scriptblock text (1 of 1):\\n$foo | Add-Content -Path 'Recipe.txt'\\n\\nScriptBlock ID: 8e5b9d7d-e1ff-40bc-8727-49ae9530af02\\nPath:</td>\n",
       "    </tr>\n",
       "    <tr>\n",
       "      <th>2862</th>\n",
       "      <td>24.12.2022 12:03:22</td>\n",
       "      <td>Creating Scriptblock text (1 of 1):\\n$foo | Add-Content -Path 'recipe_updated.txt'\\n\\nScriptBlock ID: e6033506-603f-4380-9be0-79880b40e95c\\nPath:</td>\n",
       "    </tr>\n",
       "    <tr>\n",
       "      <th>2913</th>\n",
       "      <td>24.12.2022 12:03:10</td>\n",
       "      <td>Creating Scriptblock text (1 of 1):\\n$foo = Get-Content .\\Recipe| % {$_-replace 'honey','fish oil'}\\n\\nScriptBlock ID: b039d71f-52cc-41b7-acf6-a8ca43ad5035\\nPath:</td>\n",
       "    </tr>\n",
       "    <tr>\n",
       "      <th>2948</th>\n",
       "      <td>24.12.2022 12:02:45</td>\n",
       "      <td>Creating Scriptblock text (1 of 1):\\n$foo = Get-Content .\\Recipe| % {$_-replace 'honey','fish oil'} $foo | Add-Content -Path 'recipe_updated.txt'\\n\\nScriptBlock ID: 6ea311a5-b9d2-40a6-a794-60e3f9539005\\nPath:</td>\n",
       "    </tr>\n",
       "    <tr>\n",
       "      <th>3009</th>\n",
       "      <td>24.12.2022 12:01:20</td>\n",
       "      <td>Creating Scriptblock text (1 of 1):\\n$foo = Get-Content .\\Recipe| % {$_ -replace 'honey', 'fish oil'} $foo | Add-Content -Path 'recipe_updated.txt'\\n\\n\\nScriptBlock ID: 1189c065-869d-4386-8386-456c7c89130f\\nPath:</td>\n",
       "    </tr>\n",
       "  </tbody>\n",
       "</table>\n",
       "</div>"
      ],
      "text/plain": [
       "                 DateTime  \\\n",
       "2592  24.12.2022 12:05:07   \n",
       "2638  24.12.2022 12:04:44   \n",
       "2689  24.12.2022 12:04:37   \n",
       "2721  24.12.2022 12:04:18   \n",
       "2772  24.12.2022 12:04:10   \n",
       "2804  24.12.2022 12:03:55   \n",
       "2862  24.12.2022 12:03:22   \n",
       "2913  24.12.2022 12:03:10   \n",
       "2948  24.12.2022 12:02:45   \n",
       "3009  24.12.2022 12:01:20   \n",
       "\n",
       "                                                                                                                                                                                                                   Category  \n",
       "2592                                                                                 Creating Scriptblock text (1 of 1):\\n$foo | Add-Content -Path 'Recipe'\\n\\nScriptBlock ID: 00daf2d0-fd6e-4475-8f90-b99224cbe240\\nPath:   \n",
       "2638                                                                             Creating Scriptblock text (1 of 1):\\n$foo | Add-Content -Path 'Recipe.txt'\\n\\nScriptBlock ID: c54e091b-147d-4b65-a84d-87ec7453fbbb\\nPath:   \n",
       "2689                                                  Creating Scriptblock text (1 of 1):\\n$foo = Get-Content .\\Recipe| % {$_ -replace 'honey', 'fish oil'}\\n\\nScriptBlock ID: 11c6e378-2879-460e-bcd9-06cdfa28c70a\\nPath:   \n",
       "2721                                                                             Creating Scriptblock text (1 of 1):\\n$foo | Add-Content -Path 'Recipe.txt'\\n\\nScriptBlock ID: 49f0e51a-bcd9-4a8f-a124-3512606afde7\\nPath:   \n",
       "2772                                                    Creating Scriptblock text (1 of 1):\\n$foo = Get-Content .\\Recipe| % {$_-replace 'honey','fish oil'}\\n\\nScriptBlock ID: e7266037-4244-4d41-96cc-9d2488d84bde\\nPath:   \n",
       "2804                                                                             Creating Scriptblock text (1 of 1):\\n$foo | Add-Content -Path 'Recipe.txt'\\n\\nScriptBlock ID: 8e5b9d7d-e1ff-40bc-8727-49ae9530af02\\nPath:   \n",
       "2862                                                                     Creating Scriptblock text (1 of 1):\\n$foo | Add-Content -Path 'recipe_updated.txt'\\n\\nScriptBlock ID: e6033506-603f-4380-9be0-79880b40e95c\\nPath:   \n",
       "2913                                                    Creating Scriptblock text (1 of 1):\\n$foo = Get-Content .\\Recipe| % {$_-replace 'honey','fish oil'}\\n\\nScriptBlock ID: b039d71f-52cc-41b7-acf6-a8ca43ad5035\\nPath:   \n",
       "2948      Creating Scriptblock text (1 of 1):\\n$foo = Get-Content .\\Recipe| % {$_-replace 'honey','fish oil'} $foo | Add-Content -Path 'recipe_updated.txt'\\n\\nScriptBlock ID: 6ea311a5-b9d2-40a6-a794-60e3f9539005\\nPath:   \n",
       "3009  Creating Scriptblock text (1 of 1):\\n$foo = Get-Content .\\Recipe| % {$_ -replace 'honey', 'fish oil'} $foo | Add-Content -Path 'recipe_updated.txt'\\n\\n\\nScriptBlock ID: 1189c065-869d-4386-8386-456c7c89130f\\nPath:   "
      ]
     },
     "execution_count": 6,
     "metadata": {},
     "output_type": "execute_result"
    }
   ],
   "source": [
    "q5df = df[ (df[\"DateOnly\"] == pd.Timestamp(\"2022-12-24\")) & (df[\"Category\"].str.contains(\"foo\", regex=True))].sort_values(by=\"DateTime\", ascending=False)\n",
    "q5df[ [\"DateTime\", \"Category\"] ]"
   ]
  },
  {
   "cell_type": "markdown",
   "id": "68e15197-6418-4aa8-8c65-b1acc9e69c9b",
   "metadata": {},
   "source": [
    "The answer is **Recipe.txt**"
   ]
  },
  {
   "cell_type": "markdown",
   "id": "217442b7-08e0-4ccb-b7ea-598e5d9b1b25",
   "metadata": {},
   "source": [
    "## Question 6"
   ]
  },
  {
   "cell_type": "markdown",
   "id": "31e0141c-8a2d-4841-a010-cd626b713526",
   "metadata": {},
   "source": [
    "> Where any files deleted? (Yes/No)"
   ]
  },
  {
   "cell_type": "markdown",
   "id": "64efec33-fd05-4887-bc0b-347c647a06dd",
   "metadata": {},
   "source": [
    "Answer is **Yes**"
   ]
  },
  {
   "cell_type": "markdown",
   "id": "79d34adf-9eae-444b-8498-ac7a1d67f698",
   "metadata": {},
   "source": [
    "# Question 7"
   ]
  },
  {
   "cell_type": "markdown",
   "id": "9f8e67d7-6512-4c7f-a378-8d3d99cdee07",
   "metadata": {},
   "source": [
    "> Was the original file (from question 2) deleted? (Yes/No)"
   ]
  },
  {
   "cell_type": "markdown",
   "id": "d6c254a4-a394-443a-ac6e-270ac381a7d0",
   "metadata": {},
   "source": [
    "The answer is **Yes**"
   ]
  },
  {
   "cell_type": "markdown",
   "id": "3f905382-6132-45f2-b2f6-9646b0a35abc",
   "metadata": {},
   "source": [
    "## Question 8"
   ]
  },
  {
   "cell_type": "markdown",
   "id": "387fd44e-a4f4-4a4d-87ff-a5660aa9bf0a",
   "metadata": {},
   "source": [
    "> What is the Event ID of the log that shows the actual command line used to delete the file? "
   ]
  },
  {
   "cell_type": "code",
   "execution_count": 7,
   "id": "abb7fb11-e93c-49e2-adec-55f07b0ddfd9",
   "metadata": {},
   "outputs": [
    {
     "data": {
      "text/plain": [
       "EventID\n",
       "4104    4\n",
       "4103    7\n",
       "dtype: int64"
      ]
     },
     "execution_count": 7,
     "metadata": {},
     "output_type": "execute_result"
    }
   ],
   "source": [
    "q8df = df[ (df[\"DateOnly\"] == pd.Timestamp(\"2022-12-24\")) & (df[\"Category\"].str.contains(\"Recipe.txt\"))].groupby(\"EventID\").size().sort_values(ascending=True)\n",
    "q8df\n"
   ]
  },
  {
   "cell_type": "markdown",
   "id": "f425c676-e978-49da-bc43-954ef534abe6",
   "metadata": {},
   "source": [
    "The answer is **4104**"
   ]
  },
  {
   "cell_type": "markdown",
   "id": "2c57fd90-86b0-470b-8335-5c2f57dcfb72",
   "metadata": {},
   "source": [
    "## Question 9"
   ]
  },
  {
   "cell_type": "markdown",
   "id": "9b3e5606-dc5a-42f9-8d49-e6d732d7cc36",
   "metadata": {},
   "source": [
    "> Is the secret ingredient compromised? (Yes/No)"
   ]
  },
  {
   "cell_type": "markdown",
   "id": "852c2b21-6a43-40e5-b8f4-c70b3b888fda",
   "metadata": {},
   "source": [
    "The answer is **Yes**"
   ]
  },
  {
   "cell_type": "markdown",
   "id": "f361160d-b7ba-4729-b1b5-485bfede7993",
   "metadata": {},
   "source": [
    "## Question 10"
   ]
  },
  {
   "cell_type": "markdown",
   "id": "b6a21f34-161a-4e36-9371-86b783adda8a",
   "metadata": {},
   "source": [
    "> What is the secret ingredient?"
   ]
  },
  {
   "cell_type": "code",
   "execution_count": 8,
   "id": "2a4d8cad-3ed1-4a75-a36a-5d60d464ff60",
   "metadata": {},
   "outputs": [
    {
     "data": {
      "text/html": [
       "<div>\n",
       "<style scoped>\n",
       "    .dataframe tbody tr th:only-of-type {\n",
       "        vertical-align: middle;\n",
       "    }\n",
       "\n",
       "    .dataframe tbody tr th {\n",
       "        vertical-align: top;\n",
       "    }\n",
       "\n",
       "    .dataframe thead th {\n",
       "        text-align: right;\n",
       "    }\n",
       "</style>\n",
       "<table border=\"1\" class=\"dataframe\">\n",
       "  <thead>\n",
       "    <tr style=\"text-align: right;\">\n",
       "      <th></th>\n",
       "      <th>Category</th>\n",
       "    </tr>\n",
       "  </thead>\n",
       "  <tbody>\n",
       "    <tr>\n",
       "      <th>2689</th>\n",
       "      <td>Creating Scriptblock text (1 of 1):\\n$foo = Get-Content .\\Recipe| % {$_ -replace 'honey', 'fish oil'}\\n\\nScriptBlock ID: 11c6e378-2879-460e-bcd9-06cdfa28c70a\\nPath:</td>\n",
       "    </tr>\n",
       "  </tbody>\n",
       "</table>\n",
       "</div>"
      ],
      "text/plain": [
       "                                                                                                                                                                   Category\n",
       "2689  Creating Scriptblock text (1 of 1):\\n$foo = Get-Content .\\Recipe| % {$_ -replace 'honey', 'fish oil'}\\n\\nScriptBlock ID: 11c6e378-2879-460e-bcd9-06cdfa28c70a\\nPath: "
      ]
     },
     "execution_count": 8,
     "metadata": {},
     "output_type": "execute_result"
    }
   ],
   "source": [
    "q10dfa = df[ (df[\"DateOnly\"] == pd.Timestamp(\"2022-12-24\")) & (df[\"Category\"].str.contains(\"\\$foo\\s=\\sGet-Content\", regex=True))].sort_values(by=\"DateTime\", ascending=False).iloc[:1]\n",
    "q10dfa[[\"Category\"]]"
   ]
  },
  {
   "cell_type": "markdown",
   "id": "e9dc3c77-37e2-45e1-a1ba-95529bb6fd5b",
   "metadata": {},
   "source": [
    "From this query, from question 3, we saw that the word \"honey\" was replaced with \"fish oil\". "
   ]
  },
  {
   "cell_type": "code",
   "execution_count": 9,
   "id": "20ea4886-0217-403f-bb40-f4e0c077001c",
   "metadata": {},
   "outputs": [
    {
     "data": {
      "text/html": [
       "<div>\n",
       "<style scoped>\n",
       "    .dataframe tbody tr th:only-of-type {\n",
       "        vertical-align: middle;\n",
       "    }\n",
       "\n",
       "    .dataframe tbody tr th {\n",
       "        vertical-align: top;\n",
       "    }\n",
       "\n",
       "    .dataframe thead th {\n",
       "        text-align: right;\n",
       "    }\n",
       "</style>\n",
       "<table border=\"1\" class=\"dataframe\">\n",
       "  <thead>\n",
       "    <tr style=\"text-align: right;\">\n",
       "      <th></th>\n",
       "      <th>Level</th>\n",
       "      <th>DateTime</th>\n",
       "      <th>Origin</th>\n",
       "      <th>EventID</th>\n",
       "      <th>Task</th>\n",
       "      <th>Category</th>\n",
       "      <th>DateOnly</th>\n",
       "    </tr>\n",
       "  </thead>\n",
       "  <tbody>\n",
       "    <tr>\n",
       "      <th>2542</th>\n",
       "      <td>Informasjon</td>\n",
       "      <td>24.12.2022 12:05:23</td>\n",
       "      <td>Microsoft-Windows-PowerShell</td>\n",
       "      <td>4103</td>\n",
       "      <td>Executing Pipeline</td>\n",
       "      <td>CommandInvocation(Out-Default): \"Out-Default\"\\nParameterBinding(Out-Default): name=\"InputObject\"; value=\"Recipe from Mixolydian, the Queen of Dorian\"\\nParameterBinding(Out-Default): name=\"InputObject\"; value=\"Lembanh Original Recipe\"\\nParameterBinding(Out-Default): name=\"InputObject\"; value=\" \"\\nParameterBinding(Out-Default): name=\"InputObject\"; value=\"2 1/2 all purpose flour\"\\nParameterBinding(Out-Default): name=\"InputObject\"; value=\"1 Tbsp baking powder\"\\nParameterBinding(Out-Default): name=\"InputObject\"; value=\"1/4 tsp salt\"\\nParameterBinding(Out-Default): name=\"InputObject\"; value=\"1/2 c  butter\"\\nParameterBinding(Out-Default): name=\"InputObject\"; value=\"1/3 c brown sugar\"\\nParameterBinding(Out-Default): name=\"InputObject\"; value=\"1 tsp cinnamon\"\\nParameterBinding(Out-Default): name=\"InputObject\"; value=\"1/2 tsp honey (secret ingredient)\"\\nParameterBinding(Out-Default): name=\"InputObject\"; value=\"2/3 c heavy whipping cream\"\\nParameterBinding(Out-Default): name=\"InputObject\"; value=\"1/2 tsp vanilla extract\"\\nParameterBinding(Out-Default): name=\"InputObject\"; value=\"Preheat oven to 425F. Mix the flour, baking powder and salt into a large bowl. Add the butter and mix with a well till fine granules (easiest way is with an electric mixer). Then add the sugar and cinnamon, and mix them thoroughly.\"\\nParameterBinding(Out-Default): name=\"InputObject\"; value=\"Finally add the cream, honey, and vanilla and stir them in with a fork until a nice, thick dough forms.\"\\nParameterBinding(Out-Default): name=\"InputObject\"; value=\"Roll the dough out about 1/2 in thickness. Cut out 3-inch squares and transfer the dough to a cookie sheet.Criss-cross each square from corner-to-corner with a knife, lightly (not cutting through the dough).\"\\nParameterBinding(Out-Default): name=\"InputObject\"; value=\"Bake for about 12 minutes or more (depending on the thickness of the bread) until it is set and lightly golden.\"\\nParameterBinding(Out-Default): name=\"InputObject\"; value=\"Let cool completely before eating, this bread tastes better room temperature and dry. Also for more flavor you can add more cinnamon or other spicesRecipe from Mixolydian, the Queen of Dorian\"\\nParameterBinding(Out-Default): name=\"InputObject\"; value=\"Lembanh Original Recipe\"\\nParameterBinding(Out-Default): name=\"InputObject\"; value=\" \"\\nParameterBinding(Out-Default): name=\"InputObject\"; value=\"2 1/2 all purpose flour\"\\nParameterBinding(Out-Default): name=\"InputObject\"; value=\"1 Tbsp baking powder\"\\nParameterBinding(Out-Default): name=\"InputObject\"; value=\"1/4 tsp salt\"\\nParameterBinding(Out-Default): name=\"InputObject\"; value=\"1/2 c  butter\"\\nParameterBinding(Out-Default): name=\"InputObject\"; value=\"1/3 c brown sugar\"\\nParameterBinding(Out-Default): name=\"InputObject\"; value=\"1 tsp cinnamon\"\\nParameterBinding(Out-Default): name=\"InputObject\"; value=\"1/2 tsp fish oil (secret ingredient)\"\\nParameterBinding(Out-Default): name=\"InputObject\"; value=\"2/3 c heavy whipping cream\"\\nParameterBinding(Out-Default): name=\"InputObject\"; value=\"1/2 tsp vanilla extract\"\\nParameterBinding(Out-Default): name=\"InputObject\"; value=\"Preheat oven to 425F. Mix the flour, baking powder and salt into a large bowl. Add the butter and mix with a well till fine granules (easiest way is with an electric mixer). Then add the sugar and cinnamon, and mix them thoroughly.\"\\nParameterBinding(Out-Default): name=\"InputObject\"; value=\"Finally add the cream, fish oil, and vanilla and stir them in with a fork until a nice, thick dough forms.\"\\nParameterBinding(Out-Default): name=\"InputObject\"; value=\"Roll the dough out about 1/2 in thickness. Cut out 3-inch squares and transfer the dough to a cookie sheet.Criss-cross each square from corner-to-corner with a knife, lightly (not cutting through the dough).\"\\nParameterBinding(Out-Default): name=\"InputObject\"; value=\"Bake for about 12 minutes or more (depending on the thickness of the bread) until it is set and lightly golden.\"\\nParameterBinding(Out-Default): name=\"InputObject\"; value=\"Let cool completely before eating, this bread tastes better room temperature and dry. Also for more flavor you can add more cinnamon or other spices\"\\n\\n\\nContext:\\n        Severity = Informational\\n        Host Name = ConsoleHost\\n        Host Version = 5.1.19041.1682\\n        Host ID = 21ec2576-2920-4c0f-8047-0b85ad219ffa\\n        Host Application = C:\\Windows\\System32\\WindowsPowerShell\\v1.0\\powershell.exe\\n        Engine Version = 5.1.19041.1682\\n        Runspace ID = 4181eda9-20e6-4eb9-8869-fe5fa6d5e663\\n        Pipeline ID = 317\\n        Command Name = \\n        Command Type = Script\\n        Script Name = \\n        Command Path = \\n        Sequence Number = 1863\\n        User = DESKTOP-R65OKRB\\Chris Massey\\n        Connected User = \\n        Shell ID = Microsoft.PowerShell\\n\\n\\nUser Data:\\n\\n</td>\n",
       "      <td>2022-12-24</td>\n",
       "    </tr>\n",
       "  </tbody>\n",
       "</table>\n",
       "</div>"
      ],
      "text/plain": [
       "            Level             DateTime                        Origin  EventID  \\\n",
       "2542  Informasjon  24.12.2022 12:05:23  Microsoft-Windows-PowerShell     4103   \n",
       "\n",
       "                    Task  \\\n",
       "2542  Executing Pipeline   \n",
       "\n",
       "                                                                                                                                                                                                                                                                                                                                                                                                                                                                                                                                                                                                                                                                                                                                                                                                                                                                                                                                                                                                                                                                                                                                                                                                                                                                                                                                                                                                                                                                                                                                                                                                                                                                                                                                                                                                                                                                                                                                                                                                                                                                                                                                                                                                                                                                                                                                                                                                                                                                                                                                                                                                                                                                                                                                                                                                                                                                                                                                                                                                                                                                                                                                                                                                                                                                                                                                                                                                                                                                                                                                                                                                                                                                                                                                                                                                                                                                                                                                                                                                                                                                                                                                                                                                                                                                                                                                                                                                                                                                                                                                                                                                                                                                                                                                                                                                                                                                                                                                                                                                                  Category  \\\n",
       "2542  CommandInvocation(Out-Default): \"Out-Default\"\\nParameterBinding(Out-Default): name=\"InputObject\"; value=\"Recipe from Mixolydian, the Queen of Dorian\"\\nParameterBinding(Out-Default): name=\"InputObject\"; value=\"Lembanh Original Recipe\"\\nParameterBinding(Out-Default): name=\"InputObject\"; value=\" \"\\nParameterBinding(Out-Default): name=\"InputObject\"; value=\"2 1/2 all purpose flour\"\\nParameterBinding(Out-Default): name=\"InputObject\"; value=\"1 Tbsp baking powder\"\\nParameterBinding(Out-Default): name=\"InputObject\"; value=\"1/4 tsp salt\"\\nParameterBinding(Out-Default): name=\"InputObject\"; value=\"1/2 c  butter\"\\nParameterBinding(Out-Default): name=\"InputObject\"; value=\"1/3 c brown sugar\"\\nParameterBinding(Out-Default): name=\"InputObject\"; value=\"1 tsp cinnamon\"\\nParameterBinding(Out-Default): name=\"InputObject\"; value=\"1/2 tsp honey (secret ingredient)\"\\nParameterBinding(Out-Default): name=\"InputObject\"; value=\"2/3 c heavy whipping cream\"\\nParameterBinding(Out-Default): name=\"InputObject\"; value=\"1/2 tsp vanilla extract\"\\nParameterBinding(Out-Default): name=\"InputObject\"; value=\"Preheat oven to 425F. Mix the flour, baking powder and salt into a large bowl. Add the butter and mix with a well till fine granules (easiest way is with an electric mixer). Then add the sugar and cinnamon, and mix them thoroughly.\"\\nParameterBinding(Out-Default): name=\"InputObject\"; value=\"Finally add the cream, honey, and vanilla and stir them in with a fork until a nice, thick dough forms.\"\\nParameterBinding(Out-Default): name=\"InputObject\"; value=\"Roll the dough out about 1/2 in thickness. Cut out 3-inch squares and transfer the dough to a cookie sheet.Criss-cross each square from corner-to-corner with a knife, lightly (not cutting through the dough).\"\\nParameterBinding(Out-Default): name=\"InputObject\"; value=\"Bake for about 12 minutes or more (depending on the thickness of the bread) until it is set and lightly golden.\"\\nParameterBinding(Out-Default): name=\"InputObject\"; value=\"Let cool completely before eating, this bread tastes better room temperature and dry. Also for more flavor you can add more cinnamon or other spicesRecipe from Mixolydian, the Queen of Dorian\"\\nParameterBinding(Out-Default): name=\"InputObject\"; value=\"Lembanh Original Recipe\"\\nParameterBinding(Out-Default): name=\"InputObject\"; value=\" \"\\nParameterBinding(Out-Default): name=\"InputObject\"; value=\"2 1/2 all purpose flour\"\\nParameterBinding(Out-Default): name=\"InputObject\"; value=\"1 Tbsp baking powder\"\\nParameterBinding(Out-Default): name=\"InputObject\"; value=\"1/4 tsp salt\"\\nParameterBinding(Out-Default): name=\"InputObject\"; value=\"1/2 c  butter\"\\nParameterBinding(Out-Default): name=\"InputObject\"; value=\"1/3 c brown sugar\"\\nParameterBinding(Out-Default): name=\"InputObject\"; value=\"1 tsp cinnamon\"\\nParameterBinding(Out-Default): name=\"InputObject\"; value=\"1/2 tsp fish oil (secret ingredient)\"\\nParameterBinding(Out-Default): name=\"InputObject\"; value=\"2/3 c heavy whipping cream\"\\nParameterBinding(Out-Default): name=\"InputObject\"; value=\"1/2 tsp vanilla extract\"\\nParameterBinding(Out-Default): name=\"InputObject\"; value=\"Preheat oven to 425F. Mix the flour, baking powder and salt into a large bowl. Add the butter and mix with a well till fine granules (easiest way is with an electric mixer). Then add the sugar and cinnamon, and mix them thoroughly.\"\\nParameterBinding(Out-Default): name=\"InputObject\"; value=\"Finally add the cream, fish oil, and vanilla and stir them in with a fork until a nice, thick dough forms.\"\\nParameterBinding(Out-Default): name=\"InputObject\"; value=\"Roll the dough out about 1/2 in thickness. Cut out 3-inch squares and transfer the dough to a cookie sheet.Criss-cross each square from corner-to-corner with a knife, lightly (not cutting through the dough).\"\\nParameterBinding(Out-Default): name=\"InputObject\"; value=\"Bake for about 12 minutes or more (depending on the thickness of the bread) until it is set and lightly golden.\"\\nParameterBinding(Out-Default): name=\"InputObject\"; value=\"Let cool completely before eating, this bread tastes better room temperature and dry. Also for more flavor you can add more cinnamon or other spices\"\\n\\n\\nContext:\\n        Severity = Informational\\n        Host Name = ConsoleHost\\n        Host Version = 5.1.19041.1682\\n        Host ID = 21ec2576-2920-4c0f-8047-0b85ad219ffa\\n        Host Application = C:\\Windows\\System32\\WindowsPowerShell\\v1.0\\powershell.exe\\n        Engine Version = 5.1.19041.1682\\n        Runspace ID = 4181eda9-20e6-4eb9-8869-fe5fa6d5e663\\n        Pipeline ID = 317\\n        Command Name = \\n        Command Type = Script\\n        Script Name = \\n        Command Path = \\n        Sequence Number = 1863\\n        User = DESKTOP-R65OKRB\\Chris Massey\\n        Connected User = \\n        Shell ID = Microsoft.PowerShell\\n\\n\\nUser Data:\\n\\n   \n",
       "\n",
       "        DateOnly  \n",
       "2542  2022-12-24  "
      ]
     },
     "execution_count": 9,
     "metadata": {},
     "output_type": "execute_result"
    }
   ],
   "source": [
    "q10dfb = df[ (df[\"DateOnly\"] == pd.Timestamp(\"2022-12-24\")) & (df[\"Category\"].str.contains(\"honey|Honey\", regex=True))].sort_values(by=\"DateTime\", ascending=False).iloc[:1]\n",
    "q10dfb"
   ]
  },
  {
   "cell_type": "markdown",
   "id": "25ed11fc-c53f-4bac-97c2-afe12ec7468d",
   "metadata": {},
   "source": [
    "By simply querying for the word \"honey\" we found an interesting sentence: **1/2 tsp honey (secret ingredient)**"
   ]
  },
  {
   "cell_type": "code",
   "execution_count": null,
   "id": "ee8662c6-9ffc-4613-bc46-1ad0cc556959",
   "metadata": {},
   "outputs": [],
   "source": []
  }
 ],
 "metadata": {
  "kernelspec": {
   "display_name": "Python 3 (ipykernel)",
   "language": "python",
   "name": "python3"
  },
  "language_info": {
   "codemirror_mode": {
    "name": "ipython",
    "version": 3
   },
   "file_extension": ".py",
   "mimetype": "text/x-python",
   "name": "python",
   "nbconvert_exporter": "python",
   "pygments_lexer": "ipython3",
   "version": "3.11.0"
  }
 },
 "nbformat": 4,
 "nbformat_minor": 5
}
